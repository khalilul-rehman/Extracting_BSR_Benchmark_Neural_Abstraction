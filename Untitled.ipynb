{
 "cells": [
  {
   "cell_type": "code",
   "execution_count": null,
   "id": "42d79ba3",
   "metadata": {},
   "outputs": [],
   "source": [
    "import pandas as pd\n",
    "import numpy as np\n",
    "import matplotlib.pyplot as plt\n",
    "\n",
    "from sklearn.model_selection import train_test_split\n",
    "from sklearn.tree import DecisionTreeRegressor, plot_tree\n",
    "\n"
   ]
  },
  {
   "cell_type": "code",
   "execution_count": 106,
   "id": "17cb487e",
   "metadata": {},
   "outputs": [],
   "source": [
    "from mpl_toolkits.mplot3d.art3d import Poly3DCollection\n",
    "import itertools"
   ]
  },
  {
   "cell_type": "code",
   "execution_count": 215,
   "id": "08315e9a",
   "metadata": {},
   "outputs": [],
   "source": [
    "import sys\n",
    "import os\n",
    "\n",
    "# Step 1: Provide the full path to the folder containing QuadraticConstraintModel.py\n",
    "folder_path = \"/Users/khalilulrehman/Academic/Phd Italy 2023_26/University of LAquila/Research Papers tasks/Benchmarks_Systems/Robust Control for Dynamical Systems With Non-Gaussian Noise via Formal Abstractions/Neural Abstractions\"\n",
    "if folder_path not in sys.path:\n",
    "    sys.path.append(folder_path)"
   ]
  },
  {
   "cell_type": "code",
   "execution_count": 236,
   "id": "3b4abd72",
   "metadata": {},
   "outputs": [],
   "source": [
    "from QuadraticConstraintModel import train_COF_on_leaves, get_h_from_COF\n",
    "\n",
    "from QuadraticConstraintModel import get_feature_bounds_from_COF, predict_from_COF, get_elevated_vertices\n",
    "\n"
   ]
  },
  {
   "cell_type": "code",
   "execution_count": null,
   "id": "97800b82",
   "metadata": {},
   "outputs": [],
   "source": []
  },
  {
   "cell_type": "code",
   "execution_count": null,
   "id": "7f68ecd1",
   "metadata": {},
   "outputs": [],
   "source": []
  },
  {
   "cell_type": "code",
   "execution_count": null,
   "id": "3a6a1459",
   "metadata": {},
   "outputs": [],
   "source": []
  },
  {
   "cell_type": "code",
   "execution_count": null,
   "id": "6736491b",
   "metadata": {},
   "outputs": [],
   "source": []
  },
  {
   "cell_type": "code",
   "execution_count": null,
   "id": "3da69f79",
   "metadata": {},
   "outputs": [],
   "source": [
    "def normalized_root_mean_square_error(y_true, y_pred):\n",
    "    \"\"\"\n",
    "    Computes the Normalized Root Mean Square Error (NRMSE) between y_true and y_pred.\n",
    "    Normalization is done using the range of y_true.\n",
    "\n",
    "    Parameters:\n",
    "        y_true (np.ndarray): Ground truth values, shape (n_samples, n_outputs)\n",
    "        y_pred (np.ndarray): Predicted values, shape (n_samples, n_outputs)\n",
    "\n",
    "    Returns:\n",
    "        float: NRMSE value\n",
    "    \"\"\"\n",
    "    rmse = np.sqrt(np.mean((y_true - y_pred) ** 2))\n",
    "    range_y = np.max(y_true) - np.min(y_true)\n",
    "    return rmse / range_y if range_y != 0 else float('inf')\n"
   ]
  },
  {
   "cell_type": "code",
   "execution_count": 108,
   "id": "06a9e31f",
   "metadata": {},
   "outputs": [],
   "source": [
    "# Function to load DataSet\n",
    "def load_dataset(file_path, num_attributes=2, num_classes=2):\n",
    "    data = pd.read_csv(file_path)\n",
    "    X = data.iloc[:, 0 :  num_attributes].values\n",
    "    y = data.iloc[:,  num_attributes:  num_attributes + num_classes].values\n",
    "    # y = data.iloc[:, 9:10].values\n",
    "    return X, y"
   ]
  },
  {
   "cell_type": "code",
   "execution_count": 109,
   "id": "f07eb191",
   "metadata": {},
   "outputs": [],
   "source": [
    "\n",
    "data_Directory = \"Dataset/\"\n",
    "\n"
   ]
  },
  {
   "cell_type": "code",
   "execution_count": 295,
   "id": "293a91f7",
   "metadata": {},
   "outputs": [
    {
     "name": "stdout",
     "output_type": "stream",
     "text": [
      "Size of the Data Set\n",
      " Shape of X = (10000000, 3) \n",
      " Shape of y = (10000000, 3)\n"
     ]
    }
   ],
   "source": [
    "X,y = load_dataset(data_Directory + \"SteamGovernor/data_SteamGovernor_10000000.csv\",num_attributes = 3, num_classes = 3 )\n",
    "print(f\"Size of the Data Set\\n Shape of X = {X.shape} \\n Shape of y = {y.shape}\")"
   ]
  },
  {
   "cell_type": "code",
   "execution_count": 296,
   "id": "44a5d3e6",
   "metadata": {},
   "outputs": [
    {
     "name": "stdout",
     "output_type": "stream",
     "text": [
      " Shape of X_Training = (9000000, 3) \n",
      " Shape of X_Testing = (1000000, 3)\n"
     ]
    }
   ],
   "source": [
    "X_train, X_test, y_train, y_test = train_test_split(X, y,  test_size=0.1)\n",
    "print(f\" Shape of X_Training = {X_train.shape} \\n Shape of X_Testing = {X_test.shape}\")\n",
    "\n",
    "# X_train = X\n",
    "# y_train = y"
   ]
  },
  {
   "cell_type": "code",
   "execution_count": 297,
   "id": "03afc50e",
   "metadata": {},
   "outputs": [
    {
     "data": {
      "text/html": [
       "<style>#sk-container-id-11 {\n",
       "  /* Definition of color scheme common for light and dark mode */\n",
       "  --sklearn-color-text: #000;\n",
       "  --sklearn-color-text-muted: #666;\n",
       "  --sklearn-color-line: gray;\n",
       "  /* Definition of color scheme for unfitted estimators */\n",
       "  --sklearn-color-unfitted-level-0: #fff5e6;\n",
       "  --sklearn-color-unfitted-level-1: #f6e4d2;\n",
       "  --sklearn-color-unfitted-level-2: #ffe0b3;\n",
       "  --sklearn-color-unfitted-level-3: chocolate;\n",
       "  /* Definition of color scheme for fitted estimators */\n",
       "  --sklearn-color-fitted-level-0: #f0f8ff;\n",
       "  --sklearn-color-fitted-level-1: #d4ebff;\n",
       "  --sklearn-color-fitted-level-2: #b3dbfd;\n",
       "  --sklearn-color-fitted-level-3: cornflowerblue;\n",
       "\n",
       "  /* Specific color for light theme */\n",
       "  --sklearn-color-text-on-default-background: var(--sg-text-color, var(--theme-code-foreground, var(--jp-content-font-color1, black)));\n",
       "  --sklearn-color-background: var(--sg-background-color, var(--theme-background, var(--jp-layout-color0, white)));\n",
       "  --sklearn-color-border-box: var(--sg-text-color, var(--theme-code-foreground, var(--jp-content-font-color1, black)));\n",
       "  --sklearn-color-icon: #696969;\n",
       "\n",
       "  @media (prefers-color-scheme: dark) {\n",
       "    /* Redefinition of color scheme for dark theme */\n",
       "    --sklearn-color-text-on-default-background: var(--sg-text-color, var(--theme-code-foreground, var(--jp-content-font-color1, white)));\n",
       "    --sklearn-color-background: var(--sg-background-color, var(--theme-background, var(--jp-layout-color0, #111)));\n",
       "    --sklearn-color-border-box: var(--sg-text-color, var(--theme-code-foreground, var(--jp-content-font-color1, white)));\n",
       "    --sklearn-color-icon: #878787;\n",
       "  }\n",
       "}\n",
       "\n",
       "#sk-container-id-11 {\n",
       "  color: var(--sklearn-color-text);\n",
       "}\n",
       "\n",
       "#sk-container-id-11 pre {\n",
       "  padding: 0;\n",
       "}\n",
       "\n",
       "#sk-container-id-11 input.sk-hidden--visually {\n",
       "  border: 0;\n",
       "  clip: rect(1px 1px 1px 1px);\n",
       "  clip: rect(1px, 1px, 1px, 1px);\n",
       "  height: 1px;\n",
       "  margin: -1px;\n",
       "  overflow: hidden;\n",
       "  padding: 0;\n",
       "  position: absolute;\n",
       "  width: 1px;\n",
       "}\n",
       "\n",
       "#sk-container-id-11 div.sk-dashed-wrapped {\n",
       "  border: 1px dashed var(--sklearn-color-line);\n",
       "  margin: 0 0.4em 0.5em 0.4em;\n",
       "  box-sizing: border-box;\n",
       "  padding-bottom: 0.4em;\n",
       "  background-color: var(--sklearn-color-background);\n",
       "}\n",
       "\n",
       "#sk-container-id-11 div.sk-container {\n",
       "  /* jupyter's `normalize.less` sets `[hidden] { display: none; }`\n",
       "     but bootstrap.min.css set `[hidden] { display: none !important; }`\n",
       "     so we also need the `!important` here to be able to override the\n",
       "     default hidden behavior on the sphinx rendered scikit-learn.org.\n",
       "     See: https://github.com/scikit-learn/scikit-learn/issues/21755 */\n",
       "  display: inline-block !important;\n",
       "  position: relative;\n",
       "}\n",
       "\n",
       "#sk-container-id-11 div.sk-text-repr-fallback {\n",
       "  display: none;\n",
       "}\n",
       "\n",
       "div.sk-parallel-item,\n",
       "div.sk-serial,\n",
       "div.sk-item {\n",
       "  /* draw centered vertical line to link estimators */\n",
       "  background-image: linear-gradient(var(--sklearn-color-text-on-default-background), var(--sklearn-color-text-on-default-background));\n",
       "  background-size: 2px 100%;\n",
       "  background-repeat: no-repeat;\n",
       "  background-position: center center;\n",
       "}\n",
       "\n",
       "/* Parallel-specific style estimator block */\n",
       "\n",
       "#sk-container-id-11 div.sk-parallel-item::after {\n",
       "  content: \"\";\n",
       "  width: 100%;\n",
       "  border-bottom: 2px solid var(--sklearn-color-text-on-default-background);\n",
       "  flex-grow: 1;\n",
       "}\n",
       "\n",
       "#sk-container-id-11 div.sk-parallel {\n",
       "  display: flex;\n",
       "  align-items: stretch;\n",
       "  justify-content: center;\n",
       "  background-color: var(--sklearn-color-background);\n",
       "  position: relative;\n",
       "}\n",
       "\n",
       "#sk-container-id-11 div.sk-parallel-item {\n",
       "  display: flex;\n",
       "  flex-direction: column;\n",
       "}\n",
       "\n",
       "#sk-container-id-11 div.sk-parallel-item:first-child::after {\n",
       "  align-self: flex-end;\n",
       "  width: 50%;\n",
       "}\n",
       "\n",
       "#sk-container-id-11 div.sk-parallel-item:last-child::after {\n",
       "  align-self: flex-start;\n",
       "  width: 50%;\n",
       "}\n",
       "\n",
       "#sk-container-id-11 div.sk-parallel-item:only-child::after {\n",
       "  width: 0;\n",
       "}\n",
       "\n",
       "/* Serial-specific style estimator block */\n",
       "\n",
       "#sk-container-id-11 div.sk-serial {\n",
       "  display: flex;\n",
       "  flex-direction: column;\n",
       "  align-items: center;\n",
       "  background-color: var(--sklearn-color-background);\n",
       "  padding-right: 1em;\n",
       "  padding-left: 1em;\n",
       "}\n",
       "\n",
       "\n",
       "/* Toggleable style: style used for estimator/Pipeline/ColumnTransformer box that is\n",
       "clickable and can be expanded/collapsed.\n",
       "- Pipeline and ColumnTransformer use this feature and define the default style\n",
       "- Estimators will overwrite some part of the style using the `sk-estimator` class\n",
       "*/\n",
       "\n",
       "/* Pipeline and ColumnTransformer style (default) */\n",
       "\n",
       "#sk-container-id-11 div.sk-toggleable {\n",
       "  /* Default theme specific background. It is overwritten whether we have a\n",
       "  specific estimator or a Pipeline/ColumnTransformer */\n",
       "  background-color: var(--sklearn-color-background);\n",
       "}\n",
       "\n",
       "/* Toggleable label */\n",
       "#sk-container-id-11 label.sk-toggleable__label {\n",
       "  cursor: pointer;\n",
       "  display: flex;\n",
       "  width: 100%;\n",
       "  margin-bottom: 0;\n",
       "  padding: 0.5em;\n",
       "  box-sizing: border-box;\n",
       "  text-align: center;\n",
       "  align-items: start;\n",
       "  justify-content: space-between;\n",
       "  gap: 0.5em;\n",
       "}\n",
       "\n",
       "#sk-container-id-11 label.sk-toggleable__label .caption {\n",
       "  font-size: 0.6rem;\n",
       "  font-weight: lighter;\n",
       "  color: var(--sklearn-color-text-muted);\n",
       "}\n",
       "\n",
       "#sk-container-id-11 label.sk-toggleable__label-arrow:before {\n",
       "  /* Arrow on the left of the label */\n",
       "  content: \"▸\";\n",
       "  float: left;\n",
       "  margin-right: 0.25em;\n",
       "  color: var(--sklearn-color-icon);\n",
       "}\n",
       "\n",
       "#sk-container-id-11 label.sk-toggleable__label-arrow:hover:before {\n",
       "  color: var(--sklearn-color-text);\n",
       "}\n",
       "\n",
       "/* Toggleable content - dropdown */\n",
       "\n",
       "#sk-container-id-11 div.sk-toggleable__content {\n",
       "  max-height: 0;\n",
       "  max-width: 0;\n",
       "  overflow: hidden;\n",
       "  text-align: left;\n",
       "  /* unfitted */\n",
       "  background-color: var(--sklearn-color-unfitted-level-0);\n",
       "}\n",
       "\n",
       "#sk-container-id-11 div.sk-toggleable__content.fitted {\n",
       "  /* fitted */\n",
       "  background-color: var(--sklearn-color-fitted-level-0);\n",
       "}\n",
       "\n",
       "#sk-container-id-11 div.sk-toggleable__content pre {\n",
       "  margin: 0.2em;\n",
       "  border-radius: 0.25em;\n",
       "  color: var(--sklearn-color-text);\n",
       "  /* unfitted */\n",
       "  background-color: var(--sklearn-color-unfitted-level-0);\n",
       "}\n",
       "\n",
       "#sk-container-id-11 div.sk-toggleable__content.fitted pre {\n",
       "  /* unfitted */\n",
       "  background-color: var(--sklearn-color-fitted-level-0);\n",
       "}\n",
       "\n",
       "#sk-container-id-11 input.sk-toggleable__control:checked~div.sk-toggleable__content {\n",
       "  /* Expand drop-down */\n",
       "  max-height: 200px;\n",
       "  max-width: 100%;\n",
       "  overflow: auto;\n",
       "}\n",
       "\n",
       "#sk-container-id-11 input.sk-toggleable__control:checked~label.sk-toggleable__label-arrow:before {\n",
       "  content: \"▾\";\n",
       "}\n",
       "\n",
       "/* Pipeline/ColumnTransformer-specific style */\n",
       "\n",
       "#sk-container-id-11 div.sk-label input.sk-toggleable__control:checked~label.sk-toggleable__label {\n",
       "  color: var(--sklearn-color-text);\n",
       "  background-color: var(--sklearn-color-unfitted-level-2);\n",
       "}\n",
       "\n",
       "#sk-container-id-11 div.sk-label.fitted input.sk-toggleable__control:checked~label.sk-toggleable__label {\n",
       "  background-color: var(--sklearn-color-fitted-level-2);\n",
       "}\n",
       "\n",
       "/* Estimator-specific style */\n",
       "\n",
       "/* Colorize estimator box */\n",
       "#sk-container-id-11 div.sk-estimator input.sk-toggleable__control:checked~label.sk-toggleable__label {\n",
       "  /* unfitted */\n",
       "  background-color: var(--sklearn-color-unfitted-level-2);\n",
       "}\n",
       "\n",
       "#sk-container-id-11 div.sk-estimator.fitted input.sk-toggleable__control:checked~label.sk-toggleable__label {\n",
       "  /* fitted */\n",
       "  background-color: var(--sklearn-color-fitted-level-2);\n",
       "}\n",
       "\n",
       "#sk-container-id-11 div.sk-label label.sk-toggleable__label,\n",
       "#sk-container-id-11 div.sk-label label {\n",
       "  /* The background is the default theme color */\n",
       "  color: var(--sklearn-color-text-on-default-background);\n",
       "}\n",
       "\n",
       "/* On hover, darken the color of the background */\n",
       "#sk-container-id-11 div.sk-label:hover label.sk-toggleable__label {\n",
       "  color: var(--sklearn-color-text);\n",
       "  background-color: var(--sklearn-color-unfitted-level-2);\n",
       "}\n",
       "\n",
       "/* Label box, darken color on hover, fitted */\n",
       "#sk-container-id-11 div.sk-label.fitted:hover label.sk-toggleable__label.fitted {\n",
       "  color: var(--sklearn-color-text);\n",
       "  background-color: var(--sklearn-color-fitted-level-2);\n",
       "}\n",
       "\n",
       "/* Estimator label */\n",
       "\n",
       "#sk-container-id-11 div.sk-label label {\n",
       "  font-family: monospace;\n",
       "  font-weight: bold;\n",
       "  display: inline-block;\n",
       "  line-height: 1.2em;\n",
       "}\n",
       "\n",
       "#sk-container-id-11 div.sk-label-container {\n",
       "  text-align: center;\n",
       "}\n",
       "\n",
       "/* Estimator-specific */\n",
       "#sk-container-id-11 div.sk-estimator {\n",
       "  font-family: monospace;\n",
       "  border: 1px dotted var(--sklearn-color-border-box);\n",
       "  border-radius: 0.25em;\n",
       "  box-sizing: border-box;\n",
       "  margin-bottom: 0.5em;\n",
       "  /* unfitted */\n",
       "  background-color: var(--sklearn-color-unfitted-level-0);\n",
       "}\n",
       "\n",
       "#sk-container-id-11 div.sk-estimator.fitted {\n",
       "  /* fitted */\n",
       "  background-color: var(--sklearn-color-fitted-level-0);\n",
       "}\n",
       "\n",
       "/* on hover */\n",
       "#sk-container-id-11 div.sk-estimator:hover {\n",
       "  /* unfitted */\n",
       "  background-color: var(--sklearn-color-unfitted-level-2);\n",
       "}\n",
       "\n",
       "#sk-container-id-11 div.sk-estimator.fitted:hover {\n",
       "  /* fitted */\n",
       "  background-color: var(--sklearn-color-fitted-level-2);\n",
       "}\n",
       "\n",
       "/* Specification for estimator info (e.g. \"i\" and \"?\") */\n",
       "\n",
       "/* Common style for \"i\" and \"?\" */\n",
       "\n",
       ".sk-estimator-doc-link,\n",
       "a:link.sk-estimator-doc-link,\n",
       "a:visited.sk-estimator-doc-link {\n",
       "  float: right;\n",
       "  font-size: smaller;\n",
       "  line-height: 1em;\n",
       "  font-family: monospace;\n",
       "  background-color: var(--sklearn-color-background);\n",
       "  border-radius: 1em;\n",
       "  height: 1em;\n",
       "  width: 1em;\n",
       "  text-decoration: none !important;\n",
       "  margin-left: 0.5em;\n",
       "  text-align: center;\n",
       "  /* unfitted */\n",
       "  border: var(--sklearn-color-unfitted-level-1) 1pt solid;\n",
       "  color: var(--sklearn-color-unfitted-level-1);\n",
       "}\n",
       "\n",
       ".sk-estimator-doc-link.fitted,\n",
       "a:link.sk-estimator-doc-link.fitted,\n",
       "a:visited.sk-estimator-doc-link.fitted {\n",
       "  /* fitted */\n",
       "  border: var(--sklearn-color-fitted-level-1) 1pt solid;\n",
       "  color: var(--sklearn-color-fitted-level-1);\n",
       "}\n",
       "\n",
       "/* On hover */\n",
       "div.sk-estimator:hover .sk-estimator-doc-link:hover,\n",
       ".sk-estimator-doc-link:hover,\n",
       "div.sk-label-container:hover .sk-estimator-doc-link:hover,\n",
       ".sk-estimator-doc-link:hover {\n",
       "  /* unfitted */\n",
       "  background-color: var(--sklearn-color-unfitted-level-3);\n",
       "  color: var(--sklearn-color-background);\n",
       "  text-decoration: none;\n",
       "}\n",
       "\n",
       "div.sk-estimator.fitted:hover .sk-estimator-doc-link.fitted:hover,\n",
       ".sk-estimator-doc-link.fitted:hover,\n",
       "div.sk-label-container:hover .sk-estimator-doc-link.fitted:hover,\n",
       ".sk-estimator-doc-link.fitted:hover {\n",
       "  /* fitted */\n",
       "  background-color: var(--sklearn-color-fitted-level-3);\n",
       "  color: var(--sklearn-color-background);\n",
       "  text-decoration: none;\n",
       "}\n",
       "\n",
       "/* Span, style for the box shown on hovering the info icon */\n",
       ".sk-estimator-doc-link span {\n",
       "  display: none;\n",
       "  z-index: 9999;\n",
       "  position: relative;\n",
       "  font-weight: normal;\n",
       "  right: .2ex;\n",
       "  padding: .5ex;\n",
       "  margin: .5ex;\n",
       "  width: min-content;\n",
       "  min-width: 20ex;\n",
       "  max-width: 50ex;\n",
       "  color: var(--sklearn-color-text);\n",
       "  box-shadow: 2pt 2pt 4pt #999;\n",
       "  /* unfitted */\n",
       "  background: var(--sklearn-color-unfitted-level-0);\n",
       "  border: .5pt solid var(--sklearn-color-unfitted-level-3);\n",
       "}\n",
       "\n",
       ".sk-estimator-doc-link.fitted span {\n",
       "  /* fitted */\n",
       "  background: var(--sklearn-color-fitted-level-0);\n",
       "  border: var(--sklearn-color-fitted-level-3);\n",
       "}\n",
       "\n",
       ".sk-estimator-doc-link:hover span {\n",
       "  display: block;\n",
       "}\n",
       "\n",
       "/* \"?\"-specific style due to the `<a>` HTML tag */\n",
       "\n",
       "#sk-container-id-11 a.estimator_doc_link {\n",
       "  float: right;\n",
       "  font-size: 1rem;\n",
       "  line-height: 1em;\n",
       "  font-family: monospace;\n",
       "  background-color: var(--sklearn-color-background);\n",
       "  border-radius: 1rem;\n",
       "  height: 1rem;\n",
       "  width: 1rem;\n",
       "  text-decoration: none;\n",
       "  /* unfitted */\n",
       "  color: var(--sklearn-color-unfitted-level-1);\n",
       "  border: var(--sklearn-color-unfitted-level-1) 1pt solid;\n",
       "}\n",
       "\n",
       "#sk-container-id-11 a.estimator_doc_link.fitted {\n",
       "  /* fitted */\n",
       "  border: var(--sklearn-color-fitted-level-1) 1pt solid;\n",
       "  color: var(--sklearn-color-fitted-level-1);\n",
       "}\n",
       "\n",
       "/* On hover */\n",
       "#sk-container-id-11 a.estimator_doc_link:hover {\n",
       "  /* unfitted */\n",
       "  background-color: var(--sklearn-color-unfitted-level-3);\n",
       "  color: var(--sklearn-color-background);\n",
       "  text-decoration: none;\n",
       "}\n",
       "\n",
       "#sk-container-id-11 a.estimator_doc_link.fitted:hover {\n",
       "  /* fitted */\n",
       "  background-color: var(--sklearn-color-fitted-level-3);\n",
       "}\n",
       "</style><div id=\"sk-container-id-11\" class=\"sk-top-container\"><div class=\"sk-text-repr-fallback\"><pre>DecisionTreeRegressor(max_depth=8)</pre><b>In a Jupyter environment, please rerun this cell to show the HTML representation or trust the notebook. <br />On GitHub, the HTML representation is unable to render, please try loading this page with nbviewer.org.</b></div><div class=\"sk-container\" hidden><div class=\"sk-item\"><div class=\"sk-estimator fitted sk-toggleable\"><input class=\"sk-toggleable__control sk-hidden--visually\" id=\"sk-estimator-id-11\" type=\"checkbox\" checked><label for=\"sk-estimator-id-11\" class=\"sk-toggleable__label fitted sk-toggleable__label-arrow\"><div><div>DecisionTreeRegressor</div></div><div><a class=\"sk-estimator-doc-link fitted\" rel=\"noreferrer\" target=\"_blank\" href=\"https://scikit-learn.org/1.6/modules/generated/sklearn.tree.DecisionTreeRegressor.html\">?<span>Documentation for DecisionTreeRegressor</span></a><span class=\"sk-estimator-doc-link fitted\">i<span>Fitted</span></span></div></label><div class=\"sk-toggleable__content fitted\"><pre>DecisionTreeRegressor(max_depth=8)</pre></div> </div></div></div></div>"
      ],
      "text/plain": [
       "DecisionTreeRegressor(max_depth=8)"
      ]
     },
     "execution_count": 297,
     "metadata": {},
     "output_type": "execute_result"
    }
   ],
   "source": [
    "tree = DecisionTreeRegressor(max_depth=8)\n",
    "tree.fit(X_train, y_train)"
   ]
  },
  {
   "cell_type": "code",
   "execution_count": 298,
   "id": "85aaf141",
   "metadata": {},
   "outputs": [
    {
     "data": {
      "text/plain": [
       "array([[-145.79627959,  470.38685894,    0.99867853],\n",
       "       [ 154.32354029, -443.29959941,    1.00135584],\n",
       "       [-145.79627959,  470.38685894,    0.99867853],\n",
       "       [-145.79627959,  470.38685894,    0.99867853],\n",
       "       [ 154.32354029, -443.29959941,    1.00135584]])"
      ]
     },
     "execution_count": 298,
     "metadata": {},
     "output_type": "execute_result"
    }
   ],
   "source": [
    "tree.predict(X_train[0:5])"
   ]
  },
  {
   "cell_type": "code",
   "execution_count": 299,
   "id": "ffccbca2",
   "metadata": {},
   "outputs": [
    {
     "name": "stdout",
     "output_type": "stream",
     "text": [
      "Number of leaves: 256\n",
      "Total depth of tree: 8\n",
      "Number of nodes: 511\n"
     ]
    }
   ],
   "source": [
    "numLeaves = tree.get_n_leaves()\n",
    "print(f\"Number of leaves: {tree.get_n_leaves()}\")\n",
    "print(f\"Total depth of tree: {tree.get_depth()}\")\n",
    "print(f\"Number of nodes: {tree.tree_.node_count}\")\n"
   ]
  },
  {
   "cell_type": "code",
   "execution_count": 280,
   "id": "1073423c",
   "metadata": {},
   "outputs": [
    {
     "data": {
      "image/png": "[encoded data removed]",
      "text/plain": [
       "<Figure size 2000x1000 with 1 Axes>"
      ]
     },
     "metadata": {},
     "output_type": "display_data"
    }
   ],
   "source": [
    "plt.figure(figsize=(20, 10))\n",
    "plot_tree(tree, feature_names=None, filled=True, rounded=True)\n",
    "plt.title(\"Decision Tree Structure\")\n",
    "plt.show()"
   ]
  },
  {
   "cell_type": "code",
   "execution_count": 300,
   "id": "967354b1",
   "metadata": {},
   "outputs": [
    {
     "name": "stdout",
     "output_type": "stream",
     "text": [
      "NRMSE [Tree Based] of Training =  0.08907458881892208\n",
      "NRMSE [Tree Based] of Testing  =  0.08901381740879914\n"
     ]
    }
   ],
   "source": [
    "print(\"NRMSE [Tree Based] of Training = \", normalized_root_mean_square_error(y_train, tree.predict(X_train)))\n",
    "print(\"NRMSE [Tree Based] of Testing  = \", normalized_root_mean_square_error(y_test, tree.predict(X_test)))"
   ]
  },
  {
   "cell_type": "code",
   "execution_count": null,
   "id": "af4f9854",
   "metadata": {},
   "outputs": [],
   "source": []
  },
  {
   "cell_type": "code",
   "execution_count": null,
   "id": "9a12cd50",
   "metadata": {},
   "outputs": [],
   "source": [
    "# training_samples_at_leaves = get_leaf_samples(tree, X_train)"
   ]
  },
  {
   "cell_type": "code",
   "execution_count": null,
   "id": "9f1f9e5e",
   "metadata": {},
   "outputs": [],
   "source": []
  },
  {
   "cell_type": "code",
   "execution_count": null,
   "id": "31c0ec74",
   "metadata": {},
   "outputs": [],
   "source": []
  },
  {
   "cell_type": "code",
   "execution_count": null,
   "id": "9a0202ac",
   "metadata": {},
   "outputs": [
    {
     "name": "stdout",
     "output_type": "stream",
     "text": [
      "Set parameter Username\n",
      "Set parameter LicenseID to value 2598283\n",
      "Academic license - for non-commercial use only - expires 2025-12-11\n"
     ]
    }
   ],
   "source": [
    "COF_model_tree = train_COF_on_leaves(X_train, y_train, tree, optimizer=\"gurobi\")\n"
   ]
  },
  {
   "cell_type": "code",
   "execution_count": 303,
   "id": "5fca6f8a",
   "metadata": {},
   "outputs": [
    {
     "data": {
      "text/plain": [
       "256"
      ]
     },
     "execution_count": 303,
     "metadata": {},
     "output_type": "execute_result"
    }
   ],
   "source": [
    "len(COF_model_tree)\n"
   ]
  },
  {
   "cell_type": "code",
   "execution_count": 311,
   "id": "531e0f34",
   "metadata": {},
   "outputs": [
    {
     "data": {
      "text/plain": [
       "[inf,\n",
       " inf,\n",
       " inf,\n",
       " inf,\n",
       " inf,\n",
       " inf,\n",
       " inf,\n",
       " inf,\n",
       " inf,\n",
       " np.float64(141626.86246453316),\n",
       " inf,\n",
       " inf,\n",
       " inf,\n",
       " inf,\n",
       " inf,\n",
       " inf,\n",
       " np.float64(3747075.498375874),\n",
       " inf,\n",
       " inf,\n",
       " inf,\n",
       " np.float64(17945.346176036786),\n",
       " inf,\n",
       " inf,\n",
       " inf,\n",
       " inf,\n",
       " np.float64(71828.01807775012),\n",
       " np.float64(1149392.6167998663),\n",
       " inf,\n",
       " inf,\n",
       " inf,\n",
       " inf,\n",
       " inf,\n",
       " inf,\n",
       " np.float64(2794825.127930166),\n",
       " inf,\n",
       " inf,\n",
       " inf,\n",
       " inf,\n",
       " np.float64(567022.2003035212),\n",
       " inf,\n",
       " inf,\n",
       " inf,\n",
       " inf,\n",
       " inf,\n",
       " inf,\n",
       " inf,\n",
       " inf,\n",
       " inf,\n",
       " inf,\n",
       " inf,\n",
       " np.float64(165020.66810646674),\n",
       " inf,\n",
       " inf,\n",
       " inf,\n",
       " inf,\n",
       " inf,\n",
       " np.float64(2760837.450620198),\n",
       " inf,\n",
       " inf,\n",
       " inf,\n",
       " np.float64(803055.5038870962),\n",
       " inf,\n",
       " inf,\n",
       " inf,\n",
       " inf,\n",
       " np.float64(188.82467382983054),\n",
       " inf,\n",
       " inf,\n",
       " np.float64(97432.66149471642),\n",
       " np.float64(67475.44039228518),\n",
       " inf,\n",
       " inf,\n",
       " inf,\n",
       " inf,\n",
       " inf,\n",
       " np.float64(13890.03084224791),\n",
       " inf,\n",
       " inf,\n",
       " inf,\n",
       " inf,\n",
       " inf,\n",
       " np.float64(81893.07188747085),\n",
       " np.float64(17999.59821114555),\n",
       " inf,\n",
       " np.float64(1.5832177293577105),\n",
       " np.float64(0.0),\n",
       " inf,\n",
       " np.float64(377.4931624132606),\n",
       " inf,\n",
       " np.float64(4827219.499620856),\n",
       " np.float64(0.0),\n",
       " np.float64(135.9649358511211),\n",
       " inf,\n",
       " np.float64(4545412.332909079),\n",
       " inf,\n",
       " np.float64(89432.63682918168),\n",
       " inf,\n",
       " inf,\n",
       " np.float64(641274.0265280089),\n",
       " np.float64(562147.5535025916),\n",
       " np.float64(1254886.1997312861),\n",
       " inf,\n",
       " inf,\n",
       " np.float64(4208.572005628263),\n",
       " np.float64(4426704.737719819),\n",
       " inf,\n",
       " np.float64(76958.49424185464),\n",
       " np.float64(1752.0707347207172),\n",
       " inf,\n",
       " np.float64(551.6354747788263),\n",
       " np.float64(123120.77331221364),\n",
       " np.float64(809.8246682384457),\n",
       " np.float64(94369.95917166454),\n",
       " np.float64(0.0),\n",
       " np.float64(2633.3118577057403),\n",
       " np.float64(137909.5726467498),\n",
       " np.float64(215812.2843136293),\n",
       " np.float64(729.0397071961398),\n",
       " np.float64(13.737366239114865),\n",
       " np.float64(5467045.868025832),\n",
       " np.float64(53749.142287277995),\n",
       " np.float64(147189.31626285112),\n",
       " np.float64(65879.89330677633),\n",
       " np.float64(249722.82171429324),\n",
       " inf,\n",
       " np.float64(228184.98162503552),\n",
       " np.float64(0.18592643952324664),\n",
       " inf,\n",
       " inf,\n",
       " np.float64(9592.732275484406),\n",
       " np.float64(171004.80214313112),\n",
       " np.float64(636875.2583510908),\n",
       " inf,\n",
       " np.float64(107751.19046274447),\n",
       " np.float64(135817.06034746813),\n",
       " np.float64(58855.74393247404),\n",
       " np.float64(0.174765882276481),\n",
       " np.float64(939.1919189525346),\n",
       " np.float64(2.8981708617785027),\n",
       " np.float64(2101.591531455483),\n",
       " np.float64(233623.64684519495),\n",
       " np.float64(824064.688380595),\n",
       " inf,\n",
       " np.float64(664332.5481115071),\n",
       " np.float64(303592.7294208928),\n",
       " np.float64(465437.65453992324),\n",
       " np.float64(7.002684359162693),\n",
       " np.float64(714632.9751677689),\n",
       " inf,\n",
       " np.float64(48833.42183926362),\n",
       " np.float64(714127.171607566),\n",
       " np.float64(340036.50098028255),\n",
       " np.float64(20028.534506979293),\n",
       " np.float64(2214485.88918396),\n",
       " np.float64(47273.88087003408),\n",
       " np.float64(119746.85010727699),\n",
       " inf,\n",
       " np.float64(0.0),\n",
       " np.float64(30891.281806476734),\n",
       " inf,\n",
       " np.float64(1890701.2562579857),\n",
       " np.float64(1265711.2534390176),\n",
       " np.float64(250969.08639053346),\n",
       " np.float64(443103.3778936751),\n",
       " np.float64(8601.173665012559),\n",
       " np.float64(286741.9922627708),\n",
       " np.float64(3423.1415968694864),\n",
       " np.float64(52273.88789840859),\n",
       " np.float64(680770.6618395749),\n",
       " np.float64(355780.2240823182),\n",
       " np.float64(8598.385210955003),\n",
       " np.float64(12858.629395159525),\n",
       " np.float64(80676.41784751086),\n",
       " np.float64(2661.9769646195778),\n",
       " np.float64(99290.03953964636),\n",
       " np.float64(8648858.521790355),\n",
       " np.float64(0.0),\n",
       " np.float64(16781.231729153686),\n",
       " np.float64(6826.510403762491),\n",
       " np.float64(505.4860230790933),\n",
       " np.float64(1644.7894302886282),\n",
       " np.float64(213516.46115804045),\n",
       " np.float64(264857.8453460097),\n",
       " np.float64(1337.206808474027),\n",
       " np.float64(4154493.2433810914),\n",
       " np.float64(26325.874758024493),\n",
       " np.float64(3276.979541265005),\n",
       " np.float64(0.034461626534126426),\n",
       " np.float64(0.0),\n",
       " np.float64(408913.7044254476),\n",
       " np.float64(219208.18536556),\n",
       " np.float64(0.15177771851249997),\n",
       " np.float64(1628503.6474421981),\n",
       " np.float64(15124.672759308802),\n",
       " np.float64(1055.3057294253447),\n",
       " np.float64(55751.126212687464),\n",
       " np.float64(1017678.534503471),\n",
       " np.float64(25298.40318143888),\n",
       " np.float64(68679.14836235136),\n",
       " np.float64(282342.0281496785),\n",
       " np.float64(668.6116119384769),\n",
       " np.float64(317745.57334707724),\n",
       " np.float64(2108.4871888663197),\n",
       " np.float64(2161.303992201461),\n",
       " np.float64(7515.670261699929),\n",
       " np.float64(9103703.175556121),\n",
       " np.float64(0.0),\n",
       " np.float64(7261068.30466432),\n",
       " np.float64(3751.431592749062),\n",
       " np.float64(297856.399596854),\n",
       " np.float64(778032.6626797204),\n",
       " np.float64(10593.187389271247),\n",
       " np.float64(2223054.0928335753),\n",
       " np.float64(1882.7588834944377),\n",
       " np.float64(10048.351318232315),\n",
       " np.float64(38.90589832816288),\n",
       " np.float64(161205.0625426475),\n",
       " np.float64(3310.5606121705164),\n",
       " np.float64(479191.13629322394),\n",
       " np.float64(1078.6460935106704),\n",
       " np.float64(54279.1513598325),\n",
       " np.float64(1522.0729824063983),\n",
       " np.float64(396162.94234224706),\n",
       " np.float64(1708.2063301035923),\n",
       " np.float64(4481.175731792662),\n",
       " np.float64(973.0478277823796),\n",
       " np.float64(516369.27101194084),\n",
       " np.float64(0.017193815505784076),\n",
       " np.float64(808585.7116304153),\n",
       " np.float64(11474.132305313446),\n",
       " np.float64(9422.691390467813),\n",
       " np.float64(13045.823790688943),\n",
       " np.float64(60678.3394967194),\n",
       " np.float64(33443.34915051342),\n",
       " np.float64(1882.0160248883408),\n",
       " np.float64(6152.932170051012),\n",
       " np.float64(0.0730179944380705),\n",
       " np.float64(277495.24902590277),\n",
       " np.float64(0.04307188161013703),\n",
       " np.float64(2138.3705799397926),\n",
       " np.float64(83053.75928210458),\n",
       " np.float64(403.7053711044929),\n",
       " np.float64(0.0),\n",
       " np.float64(1305.2518495184283),\n",
       " np.float64(7179.054332135263),\n",
       " np.float64(45177.808794982666),\n",
       " np.float64(552.3729076990762),\n",
       " np.float64(582.9495232668173),\n",
       " np.float64(137785.3087155079),\n",
       " np.float64(262700.63320988126),\n",
       " np.float64(0.0),\n",
       " np.float64(46580.59529689643),\n",
       " np.float64(0.0004903785804886118),\n",
       " np.float64(14486.251830996109),\n",
       " np.float64(547.307132314274),\n",
       " np.float64(8.136531679995557e-11)]"
      ]
     },
     "execution_count": 311,
     "metadata": {},
     "output_type": "execute_result"
    }
   ],
   "source": [
    "high_h = get_h_from_COF(COF_model_tree, greater_then= -np.inf)\n",
    "high_h\n",
    "\n",
    "\n"
   ]
  },
  {
   "cell_type": "code",
   "execution_count": 168,
   "id": "b92fd030",
   "metadata": {},
   "outputs": [
    {
     "name": "stdout",
     "output_type": "stream",
     "text": [
      "1.4058637051546765e-07\n",
      "8.019297380022715e-08\n",
      "4.5127450493549963e-07\n",
      "1.9610152773898542e-07\n",
      "7.974457342679648e-08\n",
      "3.995191624366303e-07\n",
      "5.0496772744151775e-08\n",
      "4.998442056647664e-08\n"
     ]
    }
   ],
   "source": [
    "# high_h = []\n",
    "# bounds_of_high_h = []\n",
    "# no_samples_of_high_h = []\n",
    "# for item in tree_info:\n",
    "#     print(item['CO_Model']['h'])\n",
    "#     if item['CO_Model']['h'] > 0.5:\n",
    "#         high_h.append(item['CO_Model']['h'])\n",
    "#         bounds_of_high_h.append(item['bounds'])\n",
    "#         no_samples_of_high_h.append(item['no_samples'])\n",
    "#         print(item['CO_Model']['h'])\n",
    "#         print(item['no_samples'])\n",
    "        \n",
    "#         print(item['bounds'])\n",
    "#     print(item)"
   ]
  },
  {
   "cell_type": "code",
   "execution_count": 224,
   "id": "0f80e7c7",
   "metadata": {},
   "outputs": [],
   "source": [
    "constraints_on_leaves = get_feature_bounds_from_COF(COF_model_tree)"
   ]
  },
  {
   "cell_type": "code",
   "execution_count": 172,
   "id": "7f6cd0ea",
   "metadata": {},
   "outputs": [],
   "source": [
    "from helping_function.CustomHyperrectangle import CustomHyperrectangle"
   ]
  },
  {
   "cell_type": "code",
   "execution_count": 176,
   "id": "131bd46c",
   "metadata": {},
   "outputs": [],
   "source": [
    "customHyperrectangle = CustomHyperrectangle()"
   ]
  },
  {
   "cell_type": "code",
   "execution_count": 233,
   "id": "6a615c43",
   "metadata": {},
   "outputs": [],
   "source": [
    "vertices_of_hyperrectangle = customHyperrectangle.get_vertices_from_bounds(constraints_on_leaves)\n"
   ]
  },
  {
   "cell_type": "code",
   "execution_count": 182,
   "id": "137a25c8",
   "metadata": {},
   "outputs": [],
   "source": [
    "from helping_function.plot.CustomPlotClass import CustomPlotClass\n",
    "customPlot = CustomPlotClass()\n"
   ]
  },
  {
   "cell_type": "code",
   "execution_count": 235,
   "id": "c6d28451",
   "metadata": {},
   "outputs": [
    {
     "data": {
      "image/png": "[encoded data removed]",
      "text/plain": [
       "<Figure size 640x480 with 1 Axes>"
      ]
     },
     "metadata": {},
     "output_type": "display_data"
    }
   ],
   "source": [
    "num_cols = constraints_on_leaves.shape[1]\n",
    "\n",
    "if num_cols == 4:\n",
    "    # 2D Hyperrectangles\n",
    "    # customPlot.draw2DHyperrectanglesWithVertices(\n",
    "    #     vertices_of_polytopes,\n",
    "    #     title='Constraints as 2D-Rectangles',\n",
    "    #     dataPoints2D=trajectories_on_leaves\n",
    "    # )\n",
    "    customPlot.draw2DHyperrectanglesWithVertices(\n",
    "        vertices_of_polytopes,\n",
    "        color='#8f9119'\n",
    "    )\n",
    "\n",
    "elif num_cols == 6:\n",
    "    # 3D Hyperrectangles\n",
    "    customPlot.draw3DHyperrectanglesWithVertices(\n",
    "        vertices_of_polytopes\n",
    "    )\n",
    "else:\n",
    "    # More than 3D, project into 2D for plotting\n",
    "    customPlot.drawConstraintsIn2D(\n",
    "        constraints_on_leaves,\n",
    "        title='More than 3D Constraints in 2D'\n",
    "    )\n",
    "\n",
    "# Compute min and max along each dimension\n",
    "minOfAllDimensions = np.min(constraints_on_leaves, axis=0)\n",
    "maxOfAllDimensions = np.max(constraints_on_leaves, axis=0)"
   ]
  },
  {
   "cell_type": "code",
   "execution_count": 265,
   "id": "4edce1f3",
   "metadata": {},
   "outputs": [
    {
     "data": {
      "text/plain": [
       "array([[ 291.11816  , -142.72598  ],\n",
       "       [-187.47925  , -278.5671   ],\n",
       "       [-287.4861   ,    6.23645  ],\n",
       "       ...,\n",
       "       [   2.6783142,  -27.157562 ],\n",
       "       [-264.84726  ,   19.401978 ],\n",
       "       [-258.62247  ,  202.72879  ]])"
      ]
     },
     "execution_count": 265,
     "metadata": {},
     "output_type": "execute_result"
    }
   ],
   "source": [
    "X_test"
   ]
  },
  {
   "cell_type": "code",
   "execution_count": 232,
   "id": "3e5daa66",
   "metadata": {},
   "outputs": [
    {
     "name": "stdout",
     "output_type": "stream",
     "text": [
      "[[-433.84414     142.72598   ]\n",
      " [ -91.08785     278.5671    ]\n",
      " [ 293.72255      -6.23645   ]\n",
      " ...\n",
      " [ -29.8358762    27.157562  ]\n",
      " [ 284.249238    -19.401978  ]\n",
      " [ 461.35125998 -202.72879   ]]\n"
     ]
    }
   ],
   "source": [
    "print(predict_from_COF(COF_model_tree, X_test, tree))\n"
   ]
  },
  {
   "cell_type": "code",
   "execution_count": 229,
   "id": "1ebe122f",
   "metadata": {},
   "outputs": [
    {
     "data": {
      "text/plain": [
       "array([[-433.84415 ,  142.72598 ],\n",
       "       [ -91.08786 ,  278.5671  ],\n",
       "       [ 293.72256 ,   -6.23645 ],\n",
       "       ...,\n",
       "       [ -29.835876,   27.157562],\n",
       "       [ 284.24924 ,  -19.401978],\n",
       "       [ 461.35126 , -202.72879 ]])"
      ]
     },
     "execution_count": 229,
     "metadata": {},
     "output_type": "execute_result"
    }
   ],
   "source": [
    "y_test"
   ]
  },
  {
   "cell_type": "code",
   "execution_count": 266,
   "id": "077d86fd",
   "metadata": {},
   "outputs": [
    {
     "data": {
      "text/plain": [
       "array([[-150.12659406,  150.6352    ],\n",
       "       [-450.73518001,  150.6352    ],\n",
       "       [   1.01947022,   -0.51086426],\n",
       "       [-299.58911572,   -0.51086426]])"
      ]
     },
     "execution_count": 266,
     "metadata": {},
     "output_type": "execute_result"
    }
   ],
   "source": [
    "predict_from_COF(COF_model_tree, vertices_of_hyperrectangle[0], tree)"
   ]
  },
  {
   "cell_type": "code",
   "execution_count": 240,
   "id": "34092461",
   "metadata": {},
   "outputs": [],
   "source": [
    "elevated_vertices = get_elevated_vertices(COF_model_tree, vertices_of_hyperrectangle)"
   ]
  },
  {
   "cell_type": "code",
   "execution_count": 269,
   "id": "d65a0ec7",
   "metadata": {},
   "outputs": [
    {
     "data": {
      "text/plain": [
       "array([[  -0.50860596, -150.6352    ],\n",
       "       [ 300.09998   , -150.6352    ],\n",
       "       [  -0.50860596,    0.51086426],\n",
       "       [ 300.09998   ,    0.51086426]])"
      ]
     },
     "execution_count": 269,
     "metadata": {},
     "output_type": "execute_result"
    }
   ],
   "source": [
    "vertices_of_hyperrectangle[0]"
   ]
  },
  {
   "cell_type": "code",
   "execution_count": 268,
   "id": "eb5fd4c9",
   "metadata": {},
   "outputs": [
    {
     "data": {
      "text/plain": [
       "array([[-150.12659406,  150.6352    ],\n",
       "       [-450.73518001,  150.6352    ],\n",
       "       [   1.01947022,   -0.51086426],\n",
       "       [-299.58911572,   -0.51086426]])"
      ]
     },
     "execution_count": 268,
     "metadata": {},
     "output_type": "execute_result"
    }
   ],
   "source": [
    "elevated_vertices[0]"
   ]
  },
  {
   "cell_type": "code",
   "execution_count": 274,
   "id": "97a14cd6",
   "metadata": {},
   "outputs": [
    {
     "data": {
      "image/png": "[encoded data removed]",
      "text/plain": [
       "<Figure size 640x480 with 1 Axes>"
      ]
     },
     "metadata": {},
     "output_type": "display_data"
    }
   ],
   "source": [
    "# Check the number of rows in the first element of vertices_of_elevated_polytopes_before_span\n",
    "dim = elevated_vertices[0].shape[0]\n",
    "\n",
    "if dim == 4:\n",
    "    # 2D polytopes\n",
    "    customPlot.drawDual2DHyperrectanglesWithVertices(\n",
    "        vertices_of_hyperrectangle,\n",
    "        elevated_vertices,\n",
    "        color1='#8f9119',\n",
    "        color2='#197b91',\n",
    "        title='Elevated 2D-Polytopes'\n",
    "    )\n",
    "elif dim == 8:\n",
    "    # 3D polytopes\n",
    "    customPlot.drawDual3DHyperrectanglesWithVertices(\n",
    "        vertices_of_hyperrectangle,\n",
    "        elevated_vertices,\n",
    "        color1='#8f9119',\n",
    "        color2='#197b91',\n",
    "        title='Elevated 3D-Polytopes'\n",
    "    )\n",
    "else:\n",
    "    # Fallback for other cases\n",
    "    customPlot.drawDual2DHyperrectanglesWithVertices(\n",
    "        vertices_of_hyperrectangle,\n",
    "        elevated_vertices,\n",
    "        title='More than 3D Polytopes in 2D'\n",
    "    )\n"
   ]
  },
  {
   "cell_type": "code",
   "execution_count": null,
   "id": "46750fcc",
   "metadata": {},
   "outputs": [],
   "source": []
  },
  {
   "cell_type": "code",
   "execution_count": 262,
   "id": "be6f1628",
   "metadata": {},
   "outputs": [
    {
     "data": {
      "image/png": "[encoded data removed]",
      "text/plain": [
       "<Figure size 640x480 with 1 Axes>"
      ]
     },
     "metadata": {},
     "output_type": "display_data"
    }
   ],
   "source": [
    "customPlot.drawDual2DHyperrectanglesWithVertices(\n",
    "        [vertices_of_hyperrectangle[2]],\n",
    "        [elevated_vertices[2]],\n",
    "        color1='#8f9119',\n",
    "        color2='#197b91',\n",
    "        title='Elevated 2D-Polytopes'\n",
    "    )"
   ]
  },
  {
   "cell_type": "code",
   "execution_count": null,
   "id": "2e60a77e",
   "metadata": {},
   "outputs": [],
   "source": []
  },
  {
   "cell_type": "code",
   "execution_count": 255,
   "id": "a4e278e6",
   "metadata": {},
   "outputs": [
    {
     "name": "stdout",
     "output_type": "stream",
     "text": [
      "[0. 0. 0. 0. 0. 0. 0. 0.]\n",
      "[0. 0. 0. 0. 0. 0. 0. 0.]\n",
      "[0. 0. 0. 0. 0. 0. 0. 0.]\n",
      "[0. 0. 0. 0. 0. 0. 0. 0.]\n",
      "[0. 0. 0. 0. 0. 0. 0. 0.]\n",
      "[0. 0. 0. 0. 0. 0. 0. 0.]\n",
      "[0. 0. 0. 0. 0. 0. 0. 0.]\n",
      "[1. 0. 0. 0. 0. 0. 0. 0.]\n"
     ]
    }
   ],
   "source": [
    "\n",
    "state_graph_transition_matrix = np.zeros((numLeaves , numLeaves ))  \n",
    "\n",
    "\n",
    "for i in range(numLeaves):\n",
    "    local_row = np.zeros(numLeaves)  # Initialize local row\n",
    "    h = COF_model_tree[i]['CO_Model']['h']\n",
    "    for j in range(numLeaves):\n",
    "        vertices_P1 = elevated_vertices[i]\n",
    "        vertices_P2 = vertices_of_hyperrectangle[j]\n",
    "\n",
    "        # Call the distance function\n",
    "        _, _, min_distance = customHyperrectangle.minimize_hyperrectangle_distance_dual(vertices_P1, vertices_P2)\n",
    "\n",
    "        if min_distance < h:\n",
    "            local_row[j] = 1  # Assign transition state\n",
    "    print(local_row)\n",
    "    state_graph_transition_matrix[i, :] = local_row\n"
   ]
  },
  {
   "cell_type": "code",
   "execution_count": null,
   "id": "eff61fdb",
   "metadata": {},
   "outputs": [],
   "source": []
  },
  {
   "cell_type": "code",
   "execution_count": 253,
   "id": "c7694f75",
   "metadata": {},
   "outputs": [
    {
     "data": {
      "text/plain": [
       "array([[0., 0., 0., 0., 0., 0., 0., 0.],\n",
       "       [0., 0., 0., 0., 0., 0., 0., 0.],\n",
       "       [0., 0., 0., 0., 0., 0., 0., 0.],\n",
       "       [0., 0., 0., 0., 0., 0., 0., 0.],\n",
       "       [0., 0., 0., 0., 0., 0., 0., 0.],\n",
       "       [0., 0., 0., 0., 0., 0., 0., 0.],\n",
       "       [0., 0., 0., 0., 0., 0., 0., 0.],\n",
       "       [1., 0., 0., 0., 0., 0., 0., 0.]])"
      ]
     },
     "execution_count": 253,
     "metadata": {},
     "output_type": "execute_result"
    }
   ],
   "source": [
    "state_graph_transition_matrix"
   ]
  },
  {
   "cell_type": "code",
   "execution_count": 254,
   "id": "8e1cce36",
   "metadata": {},
   "outputs": [
    {
     "data": {
      "text/plain": [
       "(array([-224.85785489,   75.06216787]),\n",
       " array([149.79568702, -75.06216787]),\n",
       " np.float64(403.6119332321561))"
      ]
     },
     "execution_count": 254,
     "metadata": {},
     "output_type": "execute_result"
    }
   ],
   "source": [
    "customHyperrectangle.minimize_hyperrectangle_distance_dual(elevated_vertices[0], vertices_of_hyperrectangle[0])"
   ]
  },
  {
   "cell_type": "code",
   "execution_count": 258,
   "id": "97f48953",
   "metadata": {},
   "outputs": [
    {
     "data": {
      "image/png": "[encoded data removed]",
      "text/plain": [
       "<Figure size 640x480 with 1 Axes>"
      ]
     },
     "metadata": {},
     "output_type": "display_data"
    }
   ],
   "source": [
    "import matplotlib.pyplot as plt\n",
    "from mpl_toolkits.mplot3d.art3d import Poly3DCollection\n",
    "import numpy as np\n",
    "\n",
    "# Get closest points and distance\n",
    "X_opt, Xp_opt, min_distance = customHyperrectangle.minimize_hyperrectangle_distance_dual(\n",
    "    elevated_vertices[0], vertices_of_hyperrectangle[1]\n",
    ")\n",
    "\n",
    "# Determine dimension\n",
    "dim = elevated_vertices[0].shape[1]\n",
    "\n",
    "if dim == 2:\n",
    "    # 2D plotting\n",
    "    plt.figure()\n",
    "    \n",
    "    def plot_2d_hyperrectangle(vertices, color='cyan', alpha=0.3):\n",
    "        from scipy.spatial import ConvexHull\n",
    "        hull = ConvexHull(vertices)\n",
    "        plt.fill(vertices[hull.vertices, 0], vertices[hull.vertices, 1], color=color, alpha=alpha)\n",
    "        plt.plot(vertices[hull.vertices, 0], vertices[hull.vertices, 1], 'k-', linewidth=1)\n",
    "    \n",
    "    # Plot rectangles\n",
    "    plot_2d_hyperrectangle(elevated_vertices[0], color='cyan', alpha=0.3)\n",
    "    plot_2d_hyperrectangle(vertices_of_hyperrectangle[0], color='orange', alpha=0.3)\n",
    "    \n",
    "    # Plot closest points\n",
    "    plt.scatter(*X_opt, color='blue', s=50, label='Closest point on elevated rectangle')\n",
    "    plt.scatter(*Xp_opt, color='red', s=50, label='Closest point on rectangle')\n",
    "    \n",
    "    # Draw line connecting closest points\n",
    "    plt.plot([X_opt[0], Xp_opt[0]], [X_opt[1], Xp_opt[1]], color='green', linewidth=2, label=f'Min distance: {min_distance:.3f}')\n",
    "    \n",
    "    plt.xlabel('X')\n",
    "    plt.ylabel('Y')\n",
    "    plt.title('2D Hyperrectangle Minimum Distance')\n",
    "    plt.legend()\n",
    "    plt.axis('equal')\n",
    "    plt.show()\n",
    "    \n",
    "else:\n",
    "    # 3D plotting\n",
    "    fig = plt.figure()\n",
    "    ax = fig.add_subplot(111, projection='3d')\n",
    "    \n",
    "    def plot_3d_hyperrectangle(ax, verts, color='cyan', alpha=0.3):\n",
    "        faces = np.array([[0, 1, 3, 2], [0, 1, 5, 4], [0, 2, 6, 4],\n",
    "                          [1, 3, 7, 5], [2, 3, 7, 6], [4, 5, 7, 6]])\n",
    "        poly3d = [[verts[idx] for idx in face] for face in faces]\n",
    "        ax.add_collection3d(Poly3DCollection(poly3d, facecolors=color, linewidths=1, edgecolors='k', alpha=alpha))\n",
    "    \n",
    "    # Plot hyperrectangles\n",
    "    plot_3d_hyperrectangle(ax, elevated_vertices[0], color='cyan', alpha=0.3)\n",
    "    plot_3d_hyperrectangle(ax, vertices_of_hyperrectangle[0], color='orange', alpha=0.3)\n",
    "    \n",
    "    # Plot closest points\n",
    "    ax.scatter(*X_opt, color='blue', s=50, label='Closest point on elevated hyperrectangle')\n",
    "    ax.scatter(*Xp_opt, color='red', s=50, label='Closest point on hyperrectangle')\n",
    "    \n",
    "    # Draw line connecting closest points\n",
    "    line_pts = np.vstack([X_opt, Xp_opt])\n",
    "    ax.plot(line_pts[:,0], line_pts[:,1], line_pts[:,2], color='green', linewidth=2, label=f'Min distance: {min_distance:.3f}')\n",
    "    \n",
    "    ax.set_xlabel(\"X\")\n",
    "    ax.set_ylabel(\"Y\")\n",
    "    ax.set_zlabel(\"Z\")\n",
    "    ax.set_title('3D Hyperrectangle Minimum Distance')\n",
    "    ax.legend()\n",
    "    plt.show()\n"
   ]
  },
  {
   "cell_type": "code",
   "execution_count": null,
   "id": "716ed871",
   "metadata": {},
   "outputs": [],
   "source": []
  },
  {
   "cell_type": "code",
   "execution_count": null,
   "id": "2ddde59c",
   "metadata": {},
   "outputs": [],
   "source": []
  },
  {
   "cell_type": "code",
   "execution_count": null,
   "id": "3a338f93",
   "metadata": {},
   "outputs": [],
   "source": []
  },
  {
   "cell_type": "code",
   "execution_count": null,
   "id": "650fa849",
   "metadata": {},
   "outputs": [],
   "source": []
  },
  {
   "cell_type": "code",
   "execution_count": null,
   "id": "3920907c",
   "metadata": {},
   "outputs": [],
   "source": []
  },
  {
   "cell_type": "code",
   "execution_count": null,
   "id": "b7f4d0bb",
   "metadata": {},
   "outputs": [],
   "source": []
  },
  {
   "cell_type": "code",
   "execution_count": null,
   "id": "72643bdf",
   "metadata": {},
   "outputs": [],
   "source": []
  },
  {
   "cell_type": "code",
   "execution_count": null,
   "id": "4c289453",
   "metadata": {},
   "outputs": [],
   "source": []
  },
  {
   "cell_type": "code",
   "execution_count": null,
   "id": "eb487b00",
   "metadata": {},
   "outputs": [],
   "source": []
  },
  {
   "cell_type": "code",
   "execution_count": null,
   "id": "eec28c5a",
   "metadata": {},
   "outputs": [],
   "source": []
  },
  {
   "cell_type": "code",
   "execution_count": null,
   "id": "223842a0",
   "metadata": {},
   "outputs": [],
   "source": []
  },
  {
   "cell_type": "code",
   "execution_count": null,
   "id": "cfdb9979",
   "metadata": {},
   "outputs": [],
   "source": []
  },
  {
   "cell_type": "code",
   "execution_count": null,
   "id": "7d782c7b",
   "metadata": {},
   "outputs": [],
   "source": []
  },
  {
   "cell_type": "code",
   "execution_count": null,
   "id": "33dd87ef",
   "metadata": {},
   "outputs": [],
   "source": []
  },
  {
   "cell_type": "code",
   "execution_count": null,
   "id": "b937ed5e",
   "metadata": {},
   "outputs": [],
   "source": []
  },
  {
   "cell_type": "code",
   "execution_count": null,
   "id": "8480cfd6",
   "metadata": {},
   "outputs": [],
   "source": []
  },
  {
   "cell_type": "code",
   "execution_count": null,
   "id": "afe49bce",
   "metadata": {},
   "outputs": [],
   "source": []
  },
  {
   "cell_type": "code",
   "execution_count": 130,
   "id": "b1fb581d",
   "metadata": {},
   "outputs": [
    {
     "data": {
      "text/plain": [
       "[np.float64(-300.09995), np.float64(300.1)]"
      ]
     },
     "execution_count": 130,
     "metadata": {},
     "output_type": "execute_result"
    }
   ],
   "source": [
    "list (tree_info[0]['bounds']['feature_0'])"
   ]
  },
  {
   "cell_type": "code",
   "execution_count": null,
   "id": "1850888a",
   "metadata": {},
   "outputs": [],
   "source": []
  },
  {
   "cell_type": "code",
   "execution_count": null,
   "id": "f0c5af33",
   "metadata": {},
   "outputs": [],
   "source": []
  },
  {
   "cell_type": "code",
   "execution_count": null,
   "id": "b42fd7f1",
   "metadata": {},
   "outputs": [],
   "source": []
  },
  {
   "cell_type": "code",
   "execution_count": null,
   "id": "3c0aac0d",
   "metadata": {},
   "outputs": [],
   "source": []
  },
  {
   "cell_type": "code",
   "execution_count": null,
   "id": "32fac2b9",
   "metadata": {},
   "outputs": [],
   "source": []
  },
  {
   "cell_type": "code",
   "execution_count": null,
   "id": "240f76d0",
   "metadata": {},
   "outputs": [],
   "source": []
  },
  {
   "cell_type": "code",
   "execution_count": null,
   "id": "21f59c69",
   "metadata": {},
   "outputs": [],
   "source": []
  },
  {
   "cell_type": "code",
   "execution_count": null,
   "id": "0ffa4553",
   "metadata": {},
   "outputs": [],
   "source": []
  },
  {
   "cell_type": "code",
   "execution_count": null,
   "id": "3448bb6c",
   "metadata": {},
   "outputs": [],
   "source": []
  },
  {
   "cell_type": "code",
   "execution_count": null,
   "id": "b976ebe0",
   "metadata": {},
   "outputs": [],
   "source": []
  },
  {
   "cell_type": "code",
   "execution_count": null,
   "id": "7c10b40f",
   "metadata": {},
   "outputs": [],
   "source": []
  },
  {
   "cell_type": "code",
   "execution_count": null,
   "id": "27838093",
   "metadata": {},
   "outputs": [],
   "source": []
  }
 ],
 "metadata": {
  "kernelspec": {
   "display_name": "venv",
   "language": "python",
   "name": "python3"
  },
  "language_info": {
   "codemirror_mode": {
    "name": "ipython",
    "version": 3
   },
   "file_extension": ".py",
   "mimetype": "text/x-python",
   "name": "python",
   "nbconvert_exporter": "python",
   "pygments_lexer": "ipython3",
   "version": "3.9.6"
  }
 },
 "nbformat": 4,
 "nbformat_minor": 5
}
